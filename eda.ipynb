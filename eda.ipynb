{
 "metadata": {
  "name": ""
 },
 "nbformat": 3,
 "nbformat_minor": 0,
 "worksheets": [
  {
   "cells": [
    {
     "cell_type": "code",
     "collapsed": false,
     "input": [
      "df1 = pd.read_csv(\"data1.txt\", sep = '\\t')"
     ],
     "language": "python",
     "metadata": {},
     "outputs": [],
     "prompt_number": 11
    },
    {
     "cell_type": "code",
     "collapsed": false,
     "input": [
      "df1.head(10)"
     ],
     "language": "python",
     "metadata": {},
     "outputs": [
      {
       "html": [
        "<div style=\"max-height:1000px;max-width:1500px;overflow:auto;\">\n",
        "<table border=\"1\" class=\"dataframe\">\n",
        "  <thead>\n",
        "    <tr style=\"text-align: right;\">\n",
        "      <th></th>\n",
        "      <th>custid</th>\n",
        "      <th>sex</th>\n",
        "      <th>is.employed</th>\n",
        "      <th>income</th>\n",
        "      <th>marital.stat</th>\n",
        "      <th>health.ins</th>\n",
        "      <th>housing.type</th>\n",
        "      <th>recent.move</th>\n",
        "      <th>num.vehicles</th>\n",
        "      <th>age</th>\n",
        "      <th>state.of.res</th>\n",
        "    </tr>\n",
        "  </thead>\n",
        "  <tbody>\n",
        "    <tr>\n",
        "      <th>0</th>\n",
        "      <td>  2068</td>\n",
        "      <td> F</td>\n",
        "      <td>  NaN</td>\n",
        "      <td>  11300</td>\n",
        "      <td>            Married</td>\n",
        "      <td>  True</td>\n",
        "      <td>     Homeowner free and clear</td>\n",
        "      <td> False</td>\n",
        "      <td> 2</td>\n",
        "      <td> 49</td>\n",
        "      <td>       Michigan</td>\n",
        "    </tr>\n",
        "    <tr>\n",
        "      <th>1</th>\n",
        "      <td>  2073</td>\n",
        "      <td> F</td>\n",
        "      <td>  NaN</td>\n",
        "      <td>      0</td>\n",
        "      <td>            Married</td>\n",
        "      <td>  True</td>\n",
        "      <td>                       Rented</td>\n",
        "      <td>  True</td>\n",
        "      <td> 3</td>\n",
        "      <td> 40</td>\n",
        "      <td>        Florida</td>\n",
        "    </tr>\n",
        "    <tr>\n",
        "      <th>2</th>\n",
        "      <td>  2848</td>\n",
        "      <td> M</td>\n",
        "      <td> True</td>\n",
        "      <td>   4500</td>\n",
        "      <td>      Never Married</td>\n",
        "      <td> False</td>\n",
        "      <td>                       Rented</td>\n",
        "      <td>  True</td>\n",
        "      <td> 3</td>\n",
        "      <td> 22</td>\n",
        "      <td>        Georgia</td>\n",
        "    </tr>\n",
        "    <tr>\n",
        "      <th>3</th>\n",
        "      <td>  5641</td>\n",
        "      <td> M</td>\n",
        "      <td> True</td>\n",
        "      <td>  20000</td>\n",
        "      <td>      Never Married</td>\n",
        "      <td> False</td>\n",
        "      <td>        Occupied with no rent</td>\n",
        "      <td> False</td>\n",
        "      <td> 0</td>\n",
        "      <td> 22</td>\n",
        "      <td>     New Mexico</td>\n",
        "    </tr>\n",
        "    <tr>\n",
        "      <th>4</th>\n",
        "      <td>  6369</td>\n",
        "      <td> F</td>\n",
        "      <td> True</td>\n",
        "      <td>  12000</td>\n",
        "      <td>      Never Married</td>\n",
        "      <td>  True</td>\n",
        "      <td>                       Rented</td>\n",
        "      <td>  True</td>\n",
        "      <td> 1</td>\n",
        "      <td> 31</td>\n",
        "      <td>        Florida</td>\n",
        "    </tr>\n",
        "    <tr>\n",
        "      <th>5</th>\n",
        "      <td>  8322</td>\n",
        "      <td> F</td>\n",
        "      <td> True</td>\n",
        "      <td> 180000</td>\n",
        "      <td>      Never Married</td>\n",
        "      <td>  True</td>\n",
        "      <td> Homeowner with mortgage/loan</td>\n",
        "      <td> False</td>\n",
        "      <td> 1</td>\n",
        "      <td> 40</td>\n",
        "      <td>       New York</td>\n",
        "    </tr>\n",
        "    <tr>\n",
        "      <th>6</th>\n",
        "      <td>  8521</td>\n",
        "      <td> M</td>\n",
        "      <td> True</td>\n",
        "      <td> 120000</td>\n",
        "      <td>      Never Married</td>\n",
        "      <td>  True</td>\n",
        "      <td>     Homeowner free and clear</td>\n",
        "      <td>  True</td>\n",
        "      <td> 1</td>\n",
        "      <td> 39</td>\n",
        "      <td>          Idaho</td>\n",
        "    </tr>\n",
        "    <tr>\n",
        "      <th>7</th>\n",
        "      <td> 12195</td>\n",
        "      <td> M</td>\n",
        "      <td> True</td>\n",
        "      <td>  40000</td>\n",
        "      <td>            Married</td>\n",
        "      <td>  True</td>\n",
        "      <td>                       Rented</td>\n",
        "      <td> False</td>\n",
        "      <td> 3</td>\n",
        "      <td> 48</td>\n",
        "      <td>       Michigan</td>\n",
        "    </tr>\n",
        "    <tr>\n",
        "      <th>8</th>\n",
        "      <td> 14989</td>\n",
        "      <td> M</td>\n",
        "      <td>  NaN</td>\n",
        "      <td>   9400</td>\n",
        "      <td>            Married</td>\n",
        "      <td>  True</td>\n",
        "      <td>                       Rented</td>\n",
        "      <td> False</td>\n",
        "      <td> 2</td>\n",
        "      <td> 44</td>\n",
        "      <td>       Illinois</td>\n",
        "    </tr>\n",
        "    <tr>\n",
        "      <th>9</th>\n",
        "      <td> 15917</td>\n",
        "      <td> F</td>\n",
        "      <td> True</td>\n",
        "      <td>  24000</td>\n",
        "      <td> Divorced/Separated</td>\n",
        "      <td>  True</td>\n",
        "      <td>     Homeowner free and clear</td>\n",
        "      <td> False</td>\n",
        "      <td> 1</td>\n",
        "      <td> 70</td>\n",
        "      <td> North Carolina</td>\n",
        "    </tr>\n",
        "  </tbody>\n",
        "</table>\n",
        "<p>10 rows \u00d7 11 columns</p>\n",
        "</div>"
       ],
       "metadata": {},
       "output_type": "pyout",
       "prompt_number": 13,
       "text": [
        "   custid sex is.employed  income        marital.stat health.ins  \\\n",
        "0    2068   F         NaN   11300             Married       True   \n",
        "1    2073   F         NaN       0             Married       True   \n",
        "2    2848   M        True    4500       Never Married      False   \n",
        "3    5641   M        True   20000       Never Married      False   \n",
        "4    6369   F        True   12000       Never Married       True   \n",
        "5    8322   F        True  180000       Never Married       True   \n",
        "6    8521   M        True  120000       Never Married       True   \n",
        "7   12195   M        True   40000             Married       True   \n",
        "8   14989   M         NaN    9400             Married       True   \n",
        "9   15917   F        True   24000  Divorced/Separated       True   \n",
        "\n",
        "                   housing.type recent.move  num.vehicles  age    state.of.res  \n",
        "0      Homeowner free and clear       False             2   49        Michigan  \n",
        "1                        Rented        True             3   40         Florida  \n",
        "2                        Rented        True             3   22         Georgia  \n",
        "3         Occupied with no rent       False             0   22      New Mexico  \n",
        "4                        Rented        True             1   31         Florida  \n",
        "5  Homeowner with mortgage/loan       False             1   40        New York  \n",
        "6      Homeowner free and clear        True             1   39           Idaho  \n",
        "7                        Rented       False             3   48        Michigan  \n",
        "8                        Rented       False             2   44        Illinois  \n",
        "9      Homeowner free and clear       False             1   70  North Carolina  \n",
        "\n",
        "[10 rows x 11 columns]"
       ]
      }
     ],
     "prompt_number": 13
    },
    {
     "cell_type": "code",
     "collapsed": false,
     "input": [
      "df1.columns"
     ],
     "language": "python",
     "metadata": {},
     "outputs": [
      {
       "metadata": {},
       "output_type": "pyout",
       "prompt_number": 14,
       "text": [
        "Index([u'custid', u'sex', u'is.employed', u'income', u'marital.stat', u'health.ins', u'housing.type', u'recent.move', u'num.vehicles', u'age', u'state.of.res'], dtype='object')"
       ]
      }
     ],
     "prompt_number": 14
    },
    {
     "cell_type": "code",
     "collapsed": false,
     "input": [
      "df1.count()"
     ],
     "language": "python",
     "metadata": {},
     "outputs": [
      {
       "metadata": {},
       "output_type": "pyout",
       "prompt_number": 16,
       "text": [
        "custid          1000\n",
        "sex             1000\n",
        "is.employed      672\n",
        "income          1000\n",
        "marital.stat    1000\n",
        "health.ins      1000\n",
        "housing.type     944\n",
        "recent.move      944\n",
        "num.vehicles     944\n",
        "age             1000\n",
        "state.of.res    1000\n",
        "dtype: int64"
       ]
      }
     ],
     "prompt_number": 16
    },
    {
     "cell_type": "markdown",
     "metadata": {},
     "source": [
      "Note: The housing.type, recent.move, and num.vehicles all have the same number of missing values - it might be worth going through to see if a) these are the same people, and (b) to see what other common factors might indicate what is unique, and (c) as outliers, they might need to be taken out to do a general analysis."
     ]
    },
    {
     "cell_type": "code",
     "collapsed": false,
     "input": [
      "!head -1 \"data1.txt\" "
     ],
     "language": "python",
     "metadata": {},
     "outputs": [
      {
       "output_type": "stream",
       "stream": "stdout",
       "text": [
        "custid\tsex\tis.employed\tincome\tmarital.stat\thealth.ins\thousing.type\trecent.move\tnum.vehicles\tage\tstate.of.res\r\n"
       ]
      }
     ],
     "prompt_number": 19
    },
    {
     "cell_type": "code",
     "collapsed": false,
     "input": [
      "!wc -l \"data1.txt\""
     ],
     "language": "python",
     "metadata": {},
     "outputs": [
      {
       "output_type": "stream",
       "stream": "stdout",
       "text": [
        "    1000 data1.txt\r\n"
       ]
      }
     ],
     "prompt_number": 20
    },
    {
     "cell_type": "code",
     "collapsed": false,
     "input": [
      "!wc -c \"data1.txt\""
     ],
     "language": "python",
     "metadata": {},
     "outputs": [
      {
       "output_type": "stream",
       "stream": "stdout",
       "text": [
        "   74942 data1.txt\r\n"
       ]
      }
     ],
     "prompt_number": 21
    },
    {
     "cell_type": "code",
     "collapsed": false,
     "input": [
      "df1.dtypes"
     ],
     "language": "python",
     "metadata": {},
     "outputs": [
      {
       "metadata": {},
       "output_type": "pyout",
       "prompt_number": 24,
       "text": [
        "custid            int64\n",
        "sex              object\n",
        "is.employed      object\n",
        "income            int64\n",
        "marital.stat     object\n",
        "health.ins         bool\n",
        "housing.type     object\n",
        "recent.move      object\n",
        "num.vehicles    float64\n",
        "age             float64\n",
        "state.of.res     object\n",
        "dtype: object"
       ]
      }
     ],
     "prompt_number": 24
    },
    {
     "cell_type": "code",
     "collapsed": false,
     "input": [
      "df1.describe()"
     ],
     "language": "python",
     "metadata": {},
     "outputs": [
      {
       "html": [
        "<div style=\"max-height:1000px;max-width:1500px;overflow:auto;\">\n",
        "<table border=\"1\" class=\"dataframe\">\n",
        "  <thead>\n",
        "    <tr style=\"text-align: right;\">\n",
        "      <th></th>\n",
        "      <th>custid</th>\n",
        "      <th>income</th>\n",
        "      <th>health.ins</th>\n",
        "      <th>num.vehicles</th>\n",
        "      <th>age</th>\n",
        "    </tr>\n",
        "  </thead>\n",
        "  <tbody>\n",
        "    <tr>\n",
        "      <th>count</th>\n",
        "      <td>    1000.000000</td>\n",
        "      <td>   1000.000000</td>\n",
        "      <td>      1000</td>\n",
        "      <td> 944.000000</td>\n",
        "      <td> 1000.000000</td>\n",
        "    </tr>\n",
        "    <tr>\n",
        "      <th>mean</th>\n",
        "      <td>  698499.702000</td>\n",
        "      <td>  53504.771000</td>\n",
        "      <td>     0.841</td>\n",
        "      <td>   1.916314</td>\n",
        "      <td>   51.699815</td>\n",
        "    </tr>\n",
        "    <tr>\n",
        "      <th>std</th>\n",
        "      <td>  413508.277399</td>\n",
        "      <td>  65478.065729</td>\n",
        "      <td> 0.3658591</td>\n",
        "      <td>   1.101618</td>\n",
        "      <td>   18.863433</td>\n",
        "    </tr>\n",
        "    <tr>\n",
        "      <th>min</th>\n",
        "      <td>    2068.000000</td>\n",
        "      <td>  -8700.000000</td>\n",
        "      <td>     False</td>\n",
        "      <td>   0.000000</td>\n",
        "      <td>    0.000000</td>\n",
        "    </tr>\n",
        "    <tr>\n",
        "      <th>25%</th>\n",
        "      <td>  345666.750000</td>\n",
        "      <td>  14600.000000</td>\n",
        "      <td>         1</td>\n",
        "      <td>   1.000000</td>\n",
        "      <td>   38.000000</td>\n",
        "    </tr>\n",
        "    <tr>\n",
        "      <th>50%</th>\n",
        "      <td>  693403.000000</td>\n",
        "      <td>  35000.000000</td>\n",
        "      <td>         1</td>\n",
        "      <td>   2.000000</td>\n",
        "      <td>   50.000000</td>\n",
        "    </tr>\n",
        "    <tr>\n",
        "      <th>75%</th>\n",
        "      <td> 1044606.250000</td>\n",
        "      <td>  67000.000000</td>\n",
        "      <td>         1</td>\n",
        "      <td>   2.000000</td>\n",
        "      <td>   64.000000</td>\n",
        "    </tr>\n",
        "    <tr>\n",
        "      <th>max</th>\n",
        "      <td> 1414286.000000</td>\n",
        "      <td> 615000.000000</td>\n",
        "      <td>      True</td>\n",
        "      <td>   6.000000</td>\n",
        "      <td>  146.680197</td>\n",
        "    </tr>\n",
        "  </tbody>\n",
        "</table>\n",
        "<p>8 rows \u00d7 5 columns</p>\n",
        "</div>"
       ],
       "metadata": {},
       "output_type": "pyout",
       "prompt_number": 25,
       "text": [
        "               custid         income health.ins  num.vehicles          age\n",
        "count     1000.000000    1000.000000       1000    944.000000  1000.000000\n",
        "mean    698499.702000   53504.771000      0.841      1.916314    51.699815\n",
        "std     413508.277399   65478.065729  0.3658591      1.101618    18.863433\n",
        "min       2068.000000   -8700.000000      False      0.000000     0.000000\n",
        "25%     345666.750000   14600.000000          1      1.000000    38.000000\n",
        "50%     693403.000000   35000.000000          1      2.000000    50.000000\n",
        "75%    1044606.250000   67000.000000          1      2.000000    64.000000\n",
        "max    1414286.000000  615000.000000       True      6.000000   146.680197\n",
        "\n",
        "[8 rows x 5 columns]"
       ]
      }
     ],
     "prompt_number": 25
    },
    {
     "cell_type": "raw",
     "metadata": {},
     "source": [
      "We want to probably want to filter and throw out any incomes with negative numbers, ages over 120.  If we want to look at marital status as correlating with other data, we want to toss out any data where age is under 14. Ok, also while Jon indicated it is a constructed dataset, we should think about how random the data was put together to begin with, to account for having a representative sample."
     ]
    },
    {
     "cell_type": "code",
     "collapsed": false,
     "input": [
      "df1.mode()"
     ],
     "language": "python",
     "metadata": {},
     "outputs": [
      {
       "html": [
        "<div style=\"max-height:1000px;max-width:1500px;overflow:auto;\">\n",
        "<table border=\"1\" class=\"dataframe\">\n",
        "  <thead>\n",
        "    <tr style=\"text-align: right;\">\n",
        "      <th></th>\n",
        "      <th>custid</th>\n",
        "      <th>sex</th>\n",
        "      <th>is.employed</th>\n",
        "      <th>income</th>\n",
        "      <th>marital.stat</th>\n",
        "      <th>health.ins</th>\n",
        "      <th>housing.type</th>\n",
        "      <th>recent.move</th>\n",
        "      <th>num.vehicles</th>\n",
        "      <th>age</th>\n",
        "      <th>state.of.res</th>\n",
        "    </tr>\n",
        "  </thead>\n",
        "  <tbody>\n",
        "    <tr>\n",
        "      <th>0</th>\n",
        "      <td>NaN</td>\n",
        "      <td>   M</td>\n",
        "      <td> True</td>\n",
        "      <td>  0</td>\n",
        "      <td> Married</td>\n",
        "      <td> True</td>\n",
        "      <td> Homeowner with mortgage/loan</td>\n",
        "      <td> False</td>\n",
        "      <td>  2</td>\n",
        "      <td> 44</td>\n",
        "      <td> California</td>\n",
        "    </tr>\n",
        "    <tr>\n",
        "      <th>1</th>\n",
        "      <td>NaN</td>\n",
        "      <td> NaN</td>\n",
        "      <td>  NaN</td>\n",
        "      <td>NaN</td>\n",
        "      <td>     NaN</td>\n",
        "      <td>  NaN</td>\n",
        "      <td>                          NaN</td>\n",
        "      <td>   NaN</td>\n",
        "      <td>NaN</td>\n",
        "      <td> 55</td>\n",
        "      <td>        NaN</td>\n",
        "    </tr>\n",
        "  </tbody>\n",
        "</table>\n",
        "<p>2 rows \u00d7 11 columns</p>\n",
        "</div>"
       ],
       "metadata": {},
       "output_type": "pyout",
       "prompt_number": 27,
       "text": [
        "   custid  sex is.employed  income marital.stat health.ins  \\\n",
        "0     NaN    M        True       0      Married       True   \n",
        "1     NaN  NaN         NaN     NaN          NaN        NaN   \n",
        "\n",
        "                   housing.type recent.move  num.vehicles  age state.of.res  \n",
        "0  Homeowner with mortgage/loan       False             2   44   California  \n",
        "1                           NaN         NaN           NaN   55          NaN  \n",
        "\n",
        "[2 rows x 11 columns]"
       ]
      }
     ],
     "prompt_number": 27
    },
    {
     "cell_type": "code",
     "collapsed": false,
     "input": [
      "df1.median()"
     ],
     "language": "python",
     "metadata": {},
     "outputs": [
      {
       "metadata": {},
       "output_type": "pyout",
       "prompt_number": 31,
       "text": [
        "custid          693403\n",
        "income           35000\n",
        "health.ins           1\n",
        "num.vehicles         2\n",
        "age                 50\n",
        "dtype: float64"
       ]
      }
     ],
     "prompt_number": 31
    },
    {
     "cell_type": "code",
     "collapsed": false,
     "input": [
      "df1.income.skew(skipna=True)"
     ],
     "language": "python",
     "metadata": {},
     "outputs": [
      {
       "metadata": {},
       "output_type": "pyout",
       "prompt_number": 29,
       "text": [
        "3.1239643360137301"
       ]
      }
     ],
     "prompt_number": 29
    },
    {
     "cell_type": "code",
     "collapsed": false,
     "input": [
      "df1.age.skew(skipna=True)"
     ],
     "language": "python",
     "metadata": {},
     "outputs": [
      {
       "metadata": {},
       "output_type": "pyout",
       "prompt_number": 30,
       "text": [
        "0.72451806769632943"
       ]
      }
     ],
     "prompt_number": 30
    },
    {
     "cell_type": "code",
     "collapsed": false,
     "input": [
      "df1[df1[\"is.employed\"]==False].count()\n",
      "#df1[df1[\"is.employed\"]==True].count() + "
     ],
     "language": "python",
     "metadata": {},
     "outputs": [
      {
       "metadata": {},
       "output_type": "pyout",
       "prompt_number": 60,
       "text": [
        "custid          73\n",
        "sex             73\n",
        "is.employed     73\n",
        "income          73\n",
        "marital.stat    73\n",
        "health.ins      73\n",
        "housing.type    73\n",
        "recent.move     73\n",
        "num.vehicles    73\n",
        "age             73\n",
        "state.of.res    73\n",
        "dtype: int64"
       ]
      }
     ],
     "prompt_number": 60
    },
    {
     "cell_type": "code",
     "collapsed": false,
     "input": [
      "df1[df1[\"is.employed\"]==True].count()\n"
     ],
     "language": "python",
     "metadata": {},
     "outputs": [
      {
       "metadata": {},
       "output_type": "pyout",
       "prompt_number": 61,
       "text": [
        "custid          599\n",
        "sex             599\n",
        "is.employed     599\n",
        "income          599\n",
        "marital.stat    599\n",
        "health.ins      599\n",
        "housing.type    591\n",
        "recent.move     591\n",
        "num.vehicles    591\n",
        "age             599\n",
        "state.of.res    599\n",
        "dtype: int64"
       ]
      }
     ],
     "prompt_number": 61
    },
    {
     "cell_type": "code",
     "collapsed": false,
     "input": [
      "df1[\"is.employed\"]"
     ],
     "language": "python",
     "metadata": {},
     "outputs": [
      {
       "metadata": {},
       "output_type": "pyout",
       "prompt_number": 52,
       "text": [
        "0      NaN\n",
        "1      NaN\n",
        "2     True\n",
        "3     True\n",
        "4     True\n",
        "5     True\n",
        "6     True\n",
        "7     True\n",
        "8      NaN\n",
        "9     True\n",
        "10     NaN\n",
        "11    True\n",
        "12    True\n",
        "13    True\n",
        "14    True\n",
        "...\n",
        "985     True\n",
        "986     True\n",
        "987      NaN\n",
        "988     True\n",
        "989     True\n",
        "990     True\n",
        "991     True\n",
        "992     True\n",
        "993      NaN\n",
        "994      NaN\n",
        "995    False\n",
        "996      NaN\n",
        "997     True\n",
        "998      NaN\n",
        "999    False\n",
        "Name: is.employed, Length: 1000, dtype: object"
       ]
      }
     ],
     "prompt_number": 52
    },
    {
     "cell_type": "code",
     "collapsed": false,
     "input": [
      "df1[\"housing.type\"].value_counts()"
     ],
     "language": "python",
     "metadata": {},
     "outputs": [
      {
       "metadata": {},
       "output_type": "pyout",
       "prompt_number": 65,
       "text": [
        "Homeowner with mortgage/loan    412\n",
        "Rented                          364\n",
        "Homeowner free and clear        157\n",
        "Occupied with no rent            11\n",
        "dtype: int64"
       ]
      }
     ],
     "prompt_number": 65
    },
    {
     "cell_type": "code",
     "collapsed": false,
     "input": [
      "#Histogram of ages\n",
      "%pylab inline\n",
      "plt.hist(df1.age, 20)\n",
      "plt.xlabel(\"Ages\", fontsize=20);"
     ],
     "language": "python",
     "metadata": {},
     "outputs": [
      {
       "output_type": "stream",
       "stream": "stdout",
       "text": [
        "Populating the interactive namespace from numpy and matplotlib\n"
       ]
      },
      {
       "metadata": {},
       "output_type": "display_data",
       "png": "[encoded data removed]",
       "text": [
        "<matplotlib.figure.Figure at 0x107665e10>"
       ]
      }
     ],
     "prompt_number": 84
    },
    {
     "cell_type": "raw",
     "metadata": {},
     "source": [
      "Age is centered around 50, slightly right-skewed, but close to normal distribution.  The outliers begin younger with 0-10 and older than 89-90."
     ]
    },
    {
     "cell_type": "code",
     "collapsed": false,
     "input": [
      "df1.columns"
     ],
     "language": "python",
     "metadata": {},
     "outputs": [
      {
       "metadata": {},
       "output_type": "pyout",
       "prompt_number": 86,
       "text": [
        "Index([u'custid', u'sex', u'is.employed', u'income', u'marital.stat', u'health.ins', u'housing.type', u'recent.move', u'num.vehicles', u'age', u'state.of.res'], dtype='object')"
       ]
      }
     ],
     "prompt_number": 86
    },
    {
     "cell_type": "code",
     "collapsed": false,
     "input": [
      "plt.hist(df1.income, 75)\n",
      "plt.xlabel(\"Income\", fontsize=20);"
     ],
     "language": "python",
     "metadata": {},
     "outputs": [
      {
       "metadata": {},
       "output_type": "display_data",
       "png": "[encoded data removed]",
       "text": [
        "<matplotlib.figure.Figure at 0x10a924e10>"
       ]
      }
     ],
     "prompt_number": 94
    },
    {
     "cell_type": "code",
     "collapsed": false,
     "input": [
      "bins = [0,1,2,3,4,5,6]\n",
      "plt.xlabel(\"Number of Vehicles\", fontsize=20)\n",
      "plt.hist(df1[\"num.vehicles\"],bins);"
     ],
     "language": "python",
     "metadata": {},
     "outputs": [
      {
       "metadata": {},
       "output_type": "display_data",
       "png": "[encoded data removed]",
       "text": [
        "<matplotlib.figure.Figure at 0x10a930190>"
       ]
      }
     ],
     "prompt_number": 99
    },
    {
     "cell_type": "code",
     "collapsed": false,
     "input": [
      "df1[\"num.vehicles\"].value_counts()"
     ],
     "language": "python",
     "metadata": {},
     "outputs": [
      {
       "metadata": {},
       "output_type": "pyout",
       "prompt_number": 97,
       "text": [
        "2    362\n",
        "1    301\n",
        "3    137\n",
        "4     68\n",
        "0     57\n",
        "5     13\n",
        "6      6\n",
        "dtype: int64"
       ]
      }
     ],
     "prompt_number": 97
    },
    {
     "cell_type": "code",
     "collapsed": false,
     "input": [
      "df1.age.plot(kind='bar')"
     ],
     "language": "python",
     "metadata": {},
     "outputs": [
      {
       "metadata": {},
       "output_type": "pyout",
       "prompt_number": 100,
       "text": [
        "<matplotlib.axes.AxesSubplot at 0x10a5af7d0>"
       ]
      },
      {
       "metadata": {},
       "output_type": "display_data",
       "png": "[encoded data removed]",
       "text": [
        "<matplotlib.figure.Figure at 0x10aba3dd0>"
       ]
      }
     ],
     "prompt_number": 100
    },
    {
     "cell_type": "code",
     "collapsed": false,
     "input": [
      "df1.boxplot(column='age',by='sex')\n",
      "plt.figure();"
     ],
     "language": "python",
     "metadata": {},
     "outputs": [
      {
       "metadata": {},
       "output_type": "display_data",
       "png": "[encoded data removed]",
       "text": [
        "<matplotlib.figure.Figure at 0x10d6911d0>"
       ]
      },
      {
       "metadata": {},
       "output_type": "display_data",
       "text": [
        "<matplotlib.figure.Figure at 0x10d6919d0>"
       ]
      }
     ],
     "prompt_number": 103
    },
    {
     "cell_type": "code",
     "collapsed": false,
     "input": [
      "df1.boxplot(column='age',by='marital.stat')\n",
      "plt.figure();"
     ],
     "language": "python",
     "metadata": {},
     "outputs": [
      {
       "metadata": {},
       "output_type": "display_data",
       "png": "[encoded data removed]",
       "text": [
        "<matplotlib.figure.Figure at 0x10aeeac50>"
       ]
      },
      {
       "metadata": {},
       "output_type": "display_data",
       "text": [
        "<matplotlib.figure.Figure at 0x10aeeac90>"
       ]
      }
     ],
     "prompt_number": 104
    },
    {
     "cell_type": "code",
     "collapsed": false,
     "input": [],
     "language": "python",
     "metadata": {},
     "outputs": []
    }
   ],
   "metadata": {}
  }
 ]
}